{
 "cells": [
  {
   "cell_type": "markdown",
   "metadata": {},
   "source": [
    "<div class = \"alert alert-warning\" align=\"center\"> \n",
    "    <img src=\"https://www.egd.mg/wp-content/uploads/2020/01/cropped-logo-home-110px.png\" align=\"left\" width=\"290\"  margin=\"50px\"> \n",
    "    <center><h1>Lycée français de Tananarive</h1> \n",
    "        <h2> Jupyter Hub,  Spécialité NSI </h2></center>\n",
    "</div>"
   ]
  },
  {
   "cell_type": "markdown",
   "metadata": {
    "deletable": false,
    "editable": false,
    "nbgrader": {
     "cell_type": "markdown",
     "checksum": "760ef851ab08a696601c7ca5f33a51b9",
     "grade": false,
     "grade_id": "cell-fb17ab6634ad99bc",
     "locked": true,
     "schema_version": 3,
     "solution": false
    }
   },
   "source": [
    "Parcours séquentiel de listes\n",
    "======\n",
    "Codage des algorithmes de parcours en Python\n",
    "------\n"
   ]
  },
  {
   "cell_type": "markdown",
   "metadata": {
    "deletable": false,
    "editable": false,
    "nbgrader": {
     "cell_type": "markdown",
     "checksum": "d8a4f669e0d09e73b0cfe1d779ccf0f2",
     "grade": false,
     "grade_id": "cell-d989b0d2647fe631",
     "locked": true,
     "schema_version": 3,
     "solution": false
    }
   },
   "source": [
    "# Préambule\n",
    "L'objectif de cette partie est de comprendre comment fonctionnent ces algorithmes de parcours, pour cela il conviendra de n'utiliser que des opérations de boucle (`while` ou `for`) et des opérations conditonnelles (`if`)."
   ]
  },
  {
   "cell_type": "code",
   "execution_count": 9,
   "metadata": {},
   "outputs": [
    {
     "data": {
      "text/plain": [
       "['a', 'b', 'c']"
      ]
     },
     "execution_count": 9,
     "metadata": {},
     "output_type": "execute_result"
    }
   ],
   "source": [
    "liste = \"a,b,c\"\n",
    "x = []\n",
    "for i in liste:\n",
    "    if i != \",\":\n",
    "        x.append(i)\n",
    "x\n",
    "\n",
    "v = [i for i in liste if i!= \",\"]\n",
    "v"
   ]
  },
  {
   "cell_type": "markdown",
   "metadata": {
    "deletable": false,
    "editable": false,
    "nbgrader": {
     "cell_type": "markdown",
     "checksum": "34a0cbc5ebaabc11182442cb6faa1580",
     "grade": false,
     "grade_id": "cell-60fe2cb325f0791d",
     "locked": true,
     "schema_version": 3,
     "solution": false
    }
   },
   "source": [
    "# Recherche d'un maximum\n",
    "## Recherche d'une valeur maximale\n",
    "> ecrire une fonction `maximum(T)` qui renvoie la valeur maximale d'une liste d'entiers."
   ]
  },
  {
   "cell_type": "code",
   "execution_count": 41,
   "metadata": {
    "deletable": false,
    "nbgrader": {
     "cell_type": "code",
     "checksum": "4eeea05ca2d2836c574367f4edc94a84",
     "grade": false,
     "grade_id": "cell-7b918e9bde49dd86",
     "locked": false,
     "schema_version": 3,
     "solution": true
    }
   },
   "outputs": [],
   "source": [
    "def maximum(J):\n",
    "    max_value = J[0]\n",
    "    for x in range(len(J)):\n",
    "        while max_value < J[x]:\n",
    "            max_value = J[x]\n",
    "    return max_value"
   ]
  },
  {
   "cell_type": "code",
   "execution_count": 42,
   "metadata": {
    "deletable": false,
    "editable": false,
    "nbgrader": {
     "cell_type": "code",
     "checksum": "ca010723ad4c9523b95700cbf7dc9f2e",
     "grade": true,
     "grade_id": "cell-1ec3eaf5cc260f21",
     "locked": true,
     "points": 2,
     "schema_version": 3,
     "solution": false
    }
   },
   "outputs": [],
   "source": [
    "assert maximum([1,2,3,4,5,6,7,8,9,10]) == 10\n",
    "assert maximum([1]) == 1\n",
    "assert maximum([10,9,8,7,6,5,4,3,2,1,0]) == 10\n",
    "assert maximum([10,9,8,7,6,100,5,4,3,2,1,0]) == 100"
   ]
  },
  {
   "cell_type": "markdown",
   "metadata": {
    "deletable": false,
    "editable": false,
    "nbgrader": {
     "cell_type": "markdown",
     "checksum": "68ebe07dd9bd0058f43a36911570cf02",
     "grade": false,
     "grade_id": "cell-b14aee68c4594285",
     "locked": true,
     "schema_version": 3,
     "solution": false
    }
   },
   "source": [
    "## Complexité de la recherche d'une valeur maximale\n",
    "Nous allons maintenant vérifier que le coût en temps d'un tel algorithme est linéaire. Considérons la fonction `compte_temps(n)`qui renvoie le temps mis la fonction `maximum(T)` pour s'éxécuter."
   ]
  },
  {
   "cell_type": "code",
   "execution_count": null,
   "metadata": {
    "deletable": false,
    "editable": false,
    "nbgrader": {
     "cell_type": "code",
     "checksum": "1de46f3cafbc170aaa8e220e641e66b9",
     "grade": false,
     "grade_id": "cell-6fa5fe6fd309aa6f",
     "locked": true,
     "schema_version": 3,
     "solution": false
    }
   },
   "outputs": [],
   "source": [
    "from time import process_time\n",
    "from random import randint\n",
    "def compte_temps(n):\n",
    "    L = [randint(1,100) for i in range(n) ]\n",
    "    t1_start = process_time()  \n",
    "    maximum(L)\n",
    "    t1_stop = process_time() \n",
    "    return (t1_stop-t1_start)  "
   ]
  },
  {
   "cell_type": "code",
   "execution_count": null,
   "metadata": {
    "deletable": false,
    "editable": false,
    "nbgrader": {
     "cell_type": "code",
     "checksum": "732135400a0107912240455666e922a4",
     "grade": false,
     "grade_id": "cell-7dbc5041268df14e",
     "locked": true,
     "schema_version": 3,
     "solution": false
    }
   },
   "outputs": [],
   "source": [
    "import matplotlib.pyplot as plt\n",
    "\n",
    "x = [i for i in range(0,100000,5000)]\n",
    "y=[]\n",
    "for i in x :\n",
    "    y.append(compte_temps(i))\n",
    "\n",
    "plt.plot(x,y)"
   ]
  },
  {
   "cell_type": "markdown",
   "metadata": {
    "deletable": false,
    "editable": false,
    "nbgrader": {
     "cell_type": "markdown",
     "checksum": "a9d237b618e7bee2b9ecf44ff78aea39",
     "grade": false,
     "grade_id": "cell-6cf902ead3005d2c",
     "locked": true,
     "schema_version": 3,
     "solution": false
    }
   },
   "source": [
    "**Quelle est la grandeur en abcisse ? la grandeur en ordonnée ?**"
   ]
  },
  {
   "cell_type": "markdown",
   "metadata": {
    "deletable": false,
    "nbgrader": {
     "cell_type": "markdown",
     "checksum": "2cb605571fd21a0c7455d202660f78c0",
     "grade": true,
     "grade_id": "cell-14a24e9e1f79ba8b",
     "locked": false,
     "points": 1,
     "schema_version": 3,
     "solution": true
    }
   },
   "source": [
    "YOUR ANSWER HERE"
   ]
  },
  {
   "cell_type": "markdown",
   "metadata": {
    "deletable": false,
    "editable": false,
    "nbgrader": {
     "cell_type": "markdown",
     "checksum": "1cf4f2edc72cfa8e359a2c8b64268dd7",
     "grade": false,
     "grade_id": "cell-750de92182d14447",
     "locked": true,
     "schema_version": 3,
     "solution": false
    }
   },
   "source": [
    "**A partir du graphe obtenu justifiez que la complexité de l'algorithme de recherche d'un maximum est linéaire.**"
   ]
  },
  {
   "cell_type": "markdown",
   "metadata": {
    "deletable": false,
    "nbgrader": {
     "cell_type": "markdown",
     "checksum": "29d0d84aafedb0f48eb4e611eebdceb7",
     "grade": true,
     "grade_id": "cell-13e25a8bd5da3148",
     "locked": false,
     "points": 1,
     "schema_version": 3,
     "solution": true
    }
   },
   "source": [
    "YOUR ANSWER HERE"
   ]
  },
  {
   "cell_type": "markdown",
   "metadata": {
    "deletable": false,
    "editable": false,
    "nbgrader": {
     "cell_type": "markdown",
     "checksum": "ac3fe4169a93291b709734d7e31bb360",
     "grade": false,
     "grade_id": "cell-d1ef9260ef7e9300",
     "locked": true,
     "schema_version": 3,
     "solution": false
    }
   },
   "source": [
    "**Estimez le temps que mettrait votre algorithme à effectuer la recherche d'un maximum dans une liste comportant $10^9$ éléments.**"
   ]
  },
  {
   "cell_type": "markdown",
   "metadata": {
    "deletable": false,
    "nbgrader": {
     "cell_type": "markdown",
     "checksum": "0700df677e20fd7ed0cfdc2bea97f9e5",
     "grade": true,
     "grade_id": "cell-30d59d4deeef97c5",
     "locked": false,
     "points": 1,
     "schema_version": 3,
     "solution": true
    }
   },
   "source": [
    "YOUR ANSWER HERE"
   ]
  },
  {
   "cell_type": "markdown",
   "metadata": {
    "deletable": false,
    "editable": false,
    "nbgrader": {
     "cell_type": "markdown",
     "checksum": "0316f64a37253276caf0418ed5aa889a",
     "grade": false,
     "grade_id": "cell-a4922ec3dc3eb3d8",
     "locked": true,
     "schema_version": 3,
     "solution": false
    }
   },
   "source": [
    "## Recherche de l'indice d'une valeur maximale\n",
    "> Ecrire une fonction `indice_max(T)` qui renvoie l'indice du maximum d'une liste d'entiers."
   ]
  },
  {
   "cell_type": "code",
   "execution_count": 46,
   "metadata": {
    "deletable": false,
    "nbgrader": {
     "cell_type": "code",
     "checksum": "ec87ad36db2413a177b8ad8111ee8c66",
     "grade": false,
     "grade_id": "cell-334df6fc3ecafca8",
     "locked": false,
     "schema_version": 3,
     "solution": true
    }
   },
   "outputs": [],
   "source": [
    "def indice_max(T):\n",
    "    for i in range(len(T)):\n",
    "        if T[i] == maximum(T):\n",
    "            return i"
   ]
  },
  {
   "cell_type": "code",
   "execution_count": 47,
   "metadata": {
    "deletable": false,
    "editable": false,
    "nbgrader": {
     "cell_type": "code",
     "checksum": "3d5a3b934c541cc0d50a8531ba5c51eb",
     "grade": true,
     "grade_id": "cell-dbc84904811bad1f",
     "locked": true,
     "points": 2,
     "schema_version": 3,
     "solution": false
    }
   },
   "outputs": [],
   "source": [
    "assert indice_max([1,2,3,4,5]) == 4\n",
    "assert indice_max([6,2,3,4,5,3]) == 0\n",
    "assert indice_max([1,2,3,5,4,3,2,1]) == 3\n",
    "### BEGIN HIDDENT TESTS\n",
    "assert indice_max([1]) == 0\n",
    "assert indice_max([0,1,1,1,1,1,1]) == 1"
   ]
  },
  {
   "cell_type": "markdown",
   "metadata": {
    "deletable": false,
    "editable": false,
    "nbgrader": {
     "cell_type": "markdown",
     "checksum": "c11c177e4ca85ab0f7671f5eaba8da2c",
     "grade": false,
     "grade_id": "cell-f86ef57913314aba",
     "locked": true,
     "schema_version": 3,
     "solution": false
    }
   },
   "source": [
    "Nous allons maintenant vérifier que le cout de cet algorithme `indice_max(T)`de recherche est bien lui aussi linéaire, mais aussi nous allons le comparer à celui de la fonction précédente `maximum(T)`"
   ]
  },
  {
   "cell_type": "code",
   "execution_count": null,
   "metadata": {
    "deletable": false,
    "editable": false,
    "nbgrader": {
     "cell_type": "code",
     "checksum": "bf055dc049d2b52d8fe69ab3f0ca4da7",
     "grade": false,
     "grade_id": "cell-2e9e5da6913ae215",
     "locked": true,
     "schema_version": 3,
     "solution": false
    }
   },
   "outputs": [],
   "source": [
    "def compte_temps2(n):\n",
    "    L = [randint(1,100) for i in range(n) ]\n",
    "    t1_start = process_time()  \n",
    "    indice_max(L)\n",
    "    t1_stop = process_time() \n",
    "    return (t1_stop-t1_start) "
   ]
  },
  {
   "cell_type": "code",
   "execution_count": null,
   "metadata": {
    "deletable": false,
    "editable": false,
    "nbgrader": {
     "cell_type": "code",
     "checksum": "3bcf709e116f7e1e47416621c41957cc",
     "grade": false,
     "grade_id": "cell-69fda5d6234351e0",
     "locked": true,
     "schema_version": 3,
     "solution": false
    }
   },
   "outputs": [],
   "source": [
    "import matplotlib.pyplot as plt\n",
    "\n",
    "x = [i for i in range(0,100000,5000)]\n",
    "y1,y2=[],[]\n",
    "for i in x :\n",
    "    y1.append(compte_temps(i))\n",
    "    y2.append(compte_temps2(i))\n",
    "plt.plot(x,y1,label=\"valeur\")\n",
    "plt.plot(x,y2,label=\"indice\")\n",
    "plt.legend()"
   ]
  },
  {
   "cell_type": "markdown",
   "metadata": {
    "deletable": false,
    "editable": false,
    "nbgrader": {
     "cell_type": "markdown",
     "checksum": "22d12c02a5e33063490b723f214af8dc",
     "grade": false,
     "grade_id": "cell-440903aaab3ce4c5",
     "locked": true,
     "schema_version": 3,
     "solution": false
    }
   },
   "source": [
    "**Vérifier sur le graphe ci-dessus que les complexités des deux algorithmes sont bien linéaires**"
   ]
  },
  {
   "cell_type": "markdown",
   "metadata": {
    "deletable": false,
    "nbgrader": {
     "cell_type": "markdown",
     "checksum": "e8c203b99fb3d6867e63f283f7751ca8",
     "grade": true,
     "grade_id": "cell-2bf2ce715bc918f1",
     "locked": false,
     "points": 1,
     "schema_version": 3,
     "solution": true
    }
   },
   "source": [
    "YOUR ANSWER HERE"
   ]
  },
  {
   "cell_type": "markdown",
   "metadata": {
    "deletable": false,
    "editable": false,
    "nbgrader": {
     "cell_type": "markdown",
     "checksum": "750cc5bde9e8b18365a355aad5053cd0",
     "grade": false,
     "grade_id": "cell-4808eb3abbe2bf8b",
     "locked": true,
     "schema_version": 3,
     "solution": false
    }
   },
   "source": [
    "**Expliquer la différence de temps d'éxécution entre les fonctions `maximum(T)` et `indice_max(T)`**"
   ]
  },
  {
   "cell_type": "markdown",
   "metadata": {
    "deletable": false,
    "nbgrader": {
     "cell_type": "markdown",
     "checksum": "289ee11a5cefe4ee398aff8e4599ff8a",
     "grade": true,
     "grade_id": "cell-a7e00ac9fc9001c3",
     "locked": false,
     "points": 2,
     "schema_version": 3,
     "solution": true
    }
   },
   "source": [
    "YOUR ANSWER HERE"
   ]
  }
 ],
 "metadata": {
  "kernelspec": {
   "display_name": "Python 3",
   "language": "python",
   "name": "python3"
  },
  "language_info": {
   "codemirror_mode": {
    "name": "ipython",
    "version": 3
   },
   "file_extension": ".py",
   "mimetype": "text/x-python",
   "name": "python",
   "nbconvert_exporter": "python",
   "pygments_lexer": "ipython3",
   "version": "3.6.9"
  },
  "latex_envs": {
   "LaTeX_envs_menu_present": true,
   "autoclose": false,
   "autocomplete": true,
   "bibliofile": "biblio.bib",
   "cite_by": "apalike",
   "current_citInitial": 1,
   "eqLabelWithNumbers": true,
   "eqNumInitial": 1,
   "hotkeys": {
    "equation": "Ctrl-E",
    "itemize": "Ctrl-I"
   },
   "labels_anchors": false,
   "latex_user_defs": false,
   "report_style_numbering": false,
   "user_envs_cfg": false
  }
 },
 "nbformat": 4,
 "nbformat_minor": 2
}
